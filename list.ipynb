{
 "cells": [
  {
   "cell_type": "markdown",
   "metadata": {},
   "source": [
    "1. Write a program that accepts a list from user and print the alternate element of list. \n"
   ]
  },
  {
   "cell_type": "code",
   "execution_count": null,
   "metadata": {},
   "outputs": [],
   "source": [
    "def alternate():\n",
    "    user_input = input(\"Enter a list of elements separated by spaces: \")\n",
    "    elements = user_input.split()\n",
    "    alternate_elements = elements[::2]\n",
    "    print(\"Alternate elements:\", alternate_elements)\n",
    "\n",
    "alternate()\n",
    "\n"
   ]
  },
  {
   "cell_type": "markdown",
   "metadata": {},
   "source": [
    "2. Write a program that accepts a list from user. Your program should reverse the content of list and\n",
    "display it. Do not use reverse() method. \n"
   ]
  },
  {
   "cell_type": "code",
   "execution_count": null,
   "metadata": {},
   "outputs": [],
   "source": [
    "def reverse_list():\n",
    "    user_input = input(\"Enter a list of elements separated by spaces: \")\n",
    "    elements = user_input.split()\n",
    "    reversed_list = elements[::-1]\n",
    "    print(\"Reversed list:\", reversed_list)\n",
    "\n",
    "reverse_list()\n"
   ]
  },
  {
   "cell_type": "markdown",
   "metadata": {},
   "source": [
    "3. Find and display the largest number of a list without using built-in function max(). Your program\n",
    "should ask the user to input values in list from keyboard. "
   ]
  },
  {
   "cell_type": "code",
   "execution_count": null,
   "metadata": {},
   "outputs": [],
   "source": [
    "def largestnumber():\n",
    "    user_input = input(\"Enter a list of numbers separated by spaces: \")\n",
    "    elements = user_input.split()\n",
    "    numbers = [int(num) for num in elements]\n",
    "    \n",
    "    largest = numbers[0]\n",
    "    for num in numbers:\n",
    "        if num > largest:\n",
    "            largest = num\n",
    "            \n",
    "    print(\"Largest number:\", largest)\n",
    "\n",
    "largestnumber()\n"
   ]
  },
  {
   "cell_type": "markdown",
   "metadata": {},
   "source": [
    " 4. Write a program that rotates the element of a list so that the element at the first index moves to the\n",
    "second index, the element in the second index moves to the third index, etc., and the element in the last\n",
    "index moves to the first index. \n"
   ]
  },
  {
   "cell_type": "code",
   "execution_count": null,
   "metadata": {},
   "outputs": [],
   "source": [
    "def rotate():\n",
    "    user_input = input(\"Enter a list of elements separated by spaces: \")\n",
    "    elements = user_input.split()\n",
    "    \n",
    "    if elements:\n",
    "        rotated_list = [elements[-1]] + elements[:-1]\n",
    "        print(\"Rotated list:\", rotated_list)\n",
    "\n",
    "rotate()\n"
   ]
  },
  {
   "cell_type": "markdown",
   "metadata": {},
   "source": [
    "5. Write a program that input a string and ask user to delete a given word from a string. \n"
   ]
  },
  {
   "cell_type": "code",
   "execution_count": null,
   "metadata": {},
   "outputs": [],
   "source": [
    "def deleteword():\n",
    "    original_string = input(\"Enter a string: \")\n",
    "    word_to_delete = input(\"Enter the word to delete: \")\n",
    "    \n",
    "    modified_string = ' '.join(word for word in original_string.split() if word != word_to_delete)\n",
    "    print(\"Modified string:\", modified_string)\n",
    "\n",
    "deleteword()\n"
   ]
  },
  {
   "cell_type": "markdown",
   "metadata": {},
   "source": [
    " 6. Write a program that reads a string from the user containing a date in the form mm/dd/yyyy. It\n",
    "should print the date in the form March 12, 2021. \n"
   ]
  },
  {
   "cell_type": "code",
   "execution_count": null,
   "metadata": {},
   "outputs": [],
   "source": [
    "def convert_date():\n",
    "    date_input = input(\"Enter a date in mm/dd/yyyy format: \")\n",
    "    month, day, year = date_input.split('/')\n",
    "    \n",
    "    month_names = [\n",
    "        \"January\", \"February\", \"March\", \"April\", \"May\", \"June\", \n",
    "        \"July\", \"August\", \"September\", \"October\", \"November\", \"December\"\n",
    "    ]\n",
    "    \n",
    "    month_name = month_names[int(month) - 1]\n",
    "    print(f\"Date in new format: {month_name} {int(day)}, {year}\")\n",
    "\n",
    "convert_date()\n"
   ]
  },
  {
   "cell_type": "markdown",
   "metadata": {},
   "source": [
    " 7. Write a program with a function that accepts a string from keyboard and create a new string after\n",
    "converting character of each word capitalized. For instance, if the sentence is \"stop and smell the roses.\"\n",
    "the output should be \"Stop And Smell The Roses\" \n"
   ]
  },
  {
   "cell_type": "code",
   "execution_count": null,
   "metadata": {},
   "outputs": [],
   "source": [
    "def capwords():\n",
    "    user_input = input(\"Enter a sentence: \")\n",
    "    capitalized_string = ' '.join(word.capitalize() for word in user_input.split())\n",
    "    print(\"Capitalized sentence:\", capitalized_string)\n",
    "\n",
    "capwords()\n"
   ]
  },
  {
   "cell_type": "markdown",
   "metadata": {},
   "source": [
    "8. Find the sum of each row of matrix of size m x n. For example for the following matrix output will be\n",
    "like this : \n"
   ]
  },
  {
   "cell_type": "code",
   "execution_count": null,
   "metadata": {},
   "outputs": [],
   "source": [
    "def sum_of_matrix_rows():\n",
    "    rows = int(input(\"Enter number of rows: \"))\n",
    "    cols = int(input(\"Enter number of columns: \"))\n",
    "    \n",
    "    matrix = []\n",
    "    for i in range(rows):\n",
    "        row_input = input(f\"Enter row {i + 1} elements separated by spaces: \")\n",
    "        matrix.append([int(num) for num in row_input.split()])\n",
    "        \n",
    "    for i in range(rows):\n",
    "        row_sum = sum(matrix[i])\n",
    "        print(f\"Sum of row {i + 1} = {row_sum}\")\n",
    "\n",
    "sum_of_matrix_rows()\n"
   ]
  },
  {
   "cell_type": "markdown",
   "metadata": {},
   "source": [
    "9. Write a program to add two matrices of size n x m. \n"
   ]
  },
  {
   "cell_type": "code",
   "execution_count": null,
   "metadata": {},
   "outputs": [],
   "source": [
    "def add_matrices():\n",
    "    rows = int(input(\"Enter number of rows: \"))\n",
    "    cols = int(input(\"Enter number of columns: \"))\n",
    "    \n",
    "    matrix1 = []\n",
    "    print(\"Enter elements of first matrix:\")\n",
    "    for i in range(rows):\n",
    "        row_input = input(f\"Row {i + 1}: \")\n",
    "        matrix1.append([int(num) for num in row_input.split()])\n",
    "        \n",
    "    matrix2 = []\n",
    "    print(\"Enter elements of second matrix:\")\n",
    "    for i in range(rows):\n",
    "        row_input = input(f\"Row {i + 1}: \")\n",
    "        matrix2.append([int(num) for num in row_input.split()])\n",
    "        \n",
    "    result_matrix = [[matrix1[i][j] + matrix2[i][j] for j in range(cols)] for i in range(rows)]\n",
    "    \n",
    "    print(\"Resultant matrix after addition:\")\n",
    "    for row in result_matrix:\n",
    "        print(row)\n",
    "\n",
    "add_matrices()\n"
   ]
  },
  {
   "cell_type": "markdown",
   "metadata": {},
   "source": [
    "10. Write a program to multiply two matrices "
   ]
  },
  {
   "cell_type": "code",
   "execution_count": null,
   "metadata": {},
   "outputs": [],
   "source": [
    "def multiply_matrices():\n",
    "    rows1 = int(input(\"Enter number of rows of first matrix: \"))\n",
    "    cols1 = int(input(\"Enter number of columns of first matrix: \"))\n",
    "    \n",
    "    matrix1 = []\n",
    "    print(\"Enter elements of first matrix:\")\n",
    "    for i in range(rows1):\n",
    "        row_input = input(f\"Row {i + 1}: \")\n",
    "        matrix1.append([int(num) for num in row_input.split()])\n",
    "        \n",
    "    rows2 = int(input(\"Enter number of rows of second matrix: \"))\n",
    "    cols2 = int(input(\"Enter number of columns of second matrix: \"))\n",
    "    \n",
    "    if cols1 != rows2:\n",
    "        print(\"Matrix multiplication not possible.\")\n",
    "        return\n",
    "    \n",
    "    matrix2 = []\n",
    "    print(\"Enter elements of second matrix:\")\n",
    "    for i in range(rows2):\n",
    "        row_input = input(f\"Row {i + 1}: \")\n",
    "        matrix2.append([int(num) for num in row_input.split()])\n",
    "    \n",
    "    result_matrix = [[0] * cols2 for _ in range(rows1)]\n",
    "    \n",
    "    for i in range(rows1):\n",
    "        for j in range(cols2):\n",
    "            for k in range(cols1):\n",
    "                result_matrix[i][j] += matrix1[i][k] * matrix2[k][j]\n",
    "    \n",
    "    print(\"Resultant matrix after multiplication:\")\n",
    "    for row in result_matrix:\n",
    "        print(row)\n",
    "\n",
    "multiply_matrices()\n"
   ]
  }
 ],
 "metadata": {
  "kernelspec": {
   "display_name": "base",
   "language": "python",
   "name": "python3"
  },
  "language_info": {
   "codemirror_mode": {
    "name": "ipython",
    "version": 3
   },
   "file_extension": ".py",
   "mimetype": "text/x-python",
   "name": "python",
   "nbconvert_exporter": "python",
   "pygments_lexer": "ipython3",
   "version": "3.12.4"
  }
 },
 "nbformat": 4,
 "nbformat_minor": 2
}
