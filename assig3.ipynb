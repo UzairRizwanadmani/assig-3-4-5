{
 "cells": [
  {
   "attachments": {},
   "cell_type": "markdown",
   "metadata": {},
   "source": [
    "#  Assigment 03"
   ]
  },
  {
   "attachments": {},
   "cell_type": "markdown",
   "metadata": {},
   "source": [
    "### SCENARIO 1 <br>\n",
    "Write a program that accepts a string from user. Your program should count and display number of\n",
    "vowels in that string."
   ]
  },
  {
   "cell_type": "code",
   "execution_count": 39,
   "metadata": {},
   "outputs": [
    {
     "name": "stdout",
     "output_type": "stream",
     "text": [
      "Vowels are ['e', 'o']\n",
      "Numbers Of Vowels in hello are 2\n"
     ]
    }
   ],
   "source": [
    "word = input(\"Enter a Word \")\n",
    "vowl = \"aeiouAEIOU\"\n",
    "ans = []\n",
    "count = 0\n",
    "for i in word:\n",
    "    if i in vowl:\n",
    "        count += 1\n",
    "        ans.append(i)\n",
    "print(f\"Vowels are {ans}\")\n",
    "print(f\"Numbers Of Vowels in {word} are {count}\")"
   ]
  },
  {
   "attachments": {},
   "cell_type": "markdown",
   "metadata": {},
   "source": [
    "### SCENARIO 2 <br>\n",
    "Write a program that reads a string from keyboard and display:\n",
    "* The number of uppercase letters in the string\n",
    "* The number of lowercase letters in the string\n",
    "* The number of digits in the string\n",
    "* The number of whitespace characters in the string"
   ]
  },
  {
   "cell_type": "code",
   "execution_count": 40,
   "metadata": {},
   "outputs": [
    {
     "name": "stdout",
     "output_type": "stream",
     "text": [
      "There are 0 uppercase in hello\n",
      "There are 5 lowercase in hello\n",
      "There are 0 digit in hello\n",
      "There are 0 whitespace in hello\n"
     ]
    }
   ],
   "source": [
    "user = str(input(\"Enter The text : \"))\n",
    "uppercase = 0\n",
    "lowercase = 0\n",
    "digit = 0\n",
    "whitespace = 0\n",
    "for i in user:\n",
    "    if i.isupper():\n",
    "        uppercase += 1\n",
    "    elif i.islower():\n",
    "        lowercase += 1\n",
    "    elif i.isdigit():\n",
    "        digit += 1\n",
    "    elif i.isspace():\n",
    "        whitespace += 1\n",
    "    else:\n",
    "        print(\"There Is No String\")\n",
    "print(f\"There are {uppercase} uppercase in {user}\")\n",
    "print(f\"There are {lowercase} lowercase in {user}\")\n",
    "print(f\"There are {digit} digit in {user}\")\n",
    "print(f\"There are {whitespace} whitespace in {user}\")"
   ]
  },
  {
   "attachments": {},
   "cell_type": "markdown",
   "metadata": {},
   "source": [
    "## SENARIO 3 <br>\n",
    "Write a Python program that accepts a string from user. Your program should create and display a\n",
    "new string where the first and last characters have been exchanged.<br>\n",
    "For example if the user enters the string 'HELLO' then new string would be 'OELLH'"
   ]
  },
  {
   "cell_type": "code",
   "execution_count": 41,
   "metadata": {},
   "outputs": [
    {
     "ename": "SyntaxError",
     "evalue": "invalid syntax (3081864685.py, line 2)",
     "output_type": "error",
     "traceback": [
      "\u001b[1;36m  Cell \u001b[1;32mIn[41], line 2\u001b[1;36m\u001b[0m\n\u001b[1;33m    use[]\u001b[0m\n\u001b[1;37m        ^\u001b[0m\n\u001b[1;31mSyntaxError\u001b[0m\u001b[1;31m:\u001b[0m invalid syntax\n"
     ]
    }
   ],
   "source": [
    "use = str(input(\"Enter The Text\"))\n",
    "use[]"
   ]
  },
  {
   "attachments": {},
   "cell_type": "markdown",
   "metadata": {},
   "source": [
    "## SENARIO 4 <BR>\n",
    "Write a Python program that accepts a string from user. Your program should create a new string in\n",
    "reverse of first string and display it. <BR>\n",
    "For example if the user enters the string 'EXAM' then new string would be 'MAXE'\n"
   ]
  },
  {
   "cell_type": "code",
   "execution_count": null,
   "metadata": {},
   "outputs": [],
   "source": [
    "user = str(input(\"Enter The text : \"))\n",
    "print(user)\n",
    "reve = user[::-1]\n",
    "print(reve)"
   ]
  },
  {
   "attachments": {},
   "cell_type": "markdown",
   "metadata": {},
   "source": [
    "## SCENARIO 5 <BR>\n",
    "Write a Python program that accepts a string from user. Your program should create a new string by\n",
    "shifting one position to left. <BR>\n",
    "For example if the user enters the string 'examination 2021' then new string would be 'xamination\n",
    "2021e'"
   ]
  },
  {
   "cell_type": "code",
   "execution_count": 42,
   "metadata": {},
   "outputs": [
    {
     "name": "stdout",
     "output_type": "stream",
     "text": [
      "examintaion 2021\n",
      "xamintaion 2021e\n"
     ]
    }
   ],
   "source": [
    "user = str(input(\"Enter The text : \"))\n",
    "print(user)\n",
    "it = user[1:]+ user[0]\n",
    "print(it)"
   ]
  },
  {
   "attachments": {},
   "cell_type": "markdown",
   "metadata": {},
   "source": [
    "## SCENARIO 6\n",
    "Write a program that asks the user to input his name and print its initials. Assuming that the user\n",
    "always types first name, middle name and <BR>last name and does not include any unnecessary spaces.\n",
    "For example, if the user enters Ajay Kumar Garg the program should display A. K. G.<BR>\n",
    "Note:Don't use split() method \n"
   ]
  },
  {
   "cell_type": "code",
   "execution_count": 3,
   "metadata": {},
   "outputs": [
    {
     "name": "stdout",
     "output_type": "stream",
     "text": [
      "ali taha\n",
      "a.\n"
     ]
    }
   ],
   "source": [
    "user = str(input(\"Enter The text : \"))\n",
    "print(user)\n",
    "space = \"\"\n",
    "count = 0\n",
    "for i in user:\n",
    "    if i ==\" \":\n",
    "        count += 1\n",
    "    elif count == 0:\n",
    "        space += i+\".\"\n",
    "    elif count == 1:\n",
    "        space += i+\".\"\n",
    "    elif count == 2:\n",
    "        space += i+\".\"\n",
    "    break\n",
    "print(space)"
   ]
  },
  {
   "attachments": {},
   "cell_type": "markdown",
   "metadata": {},
   "source": [
    "## SCENARIO 7\n",
    " A palindrome is a string that reads the same backward as forward. For example, the words dad, madam and radar are all palindromes. Write a programs that determines whether the string is a palindrome. Note: do not use reverse() method   "
   ]
  },
  {
   "cell_type": "code",
   "execution_count": 13,
   "metadata": {},
   "outputs": [
    {
     "name": "stdout",
     "output_type": "stream",
     "text": [
      "Your word is : madam\n",
      "From right to left : madam\n",
      "From left to right madam\n",
      "This string is a palindrome\n"
     ]
    }
   ],
   "source": [
    "user = str(input(\"Enter The text : \"))\n",
    "print(f\"Your word is : {user}\")\n",
    "use = user[::-1]\n",
    "us = user[0::]\n",
    "print(f\"From right to left : {use}\")\n",
    "print(f\"From left to right {us}\")\n",
    "if use == us :\n",
    "    print(\"This string is a palindrome\")\n",
    "else:\n",
    "    print(\"This string is not a palindrome\")"
   ]
  },
  {
   "attachments": {},
   "cell_type": "markdown",
   "metadata": {},
   "source": [
    "## SCENARIO 8\n",
    " Write a program that display following output: <BR>\n",
    " SHIFT <br>\n",
    " HIFTS <br>\n",
    " IFTSH <br>\n",
    " FTSHI <br>\n",
    " TSHIF <br>\n",
    " SHIFT <br>"
   ]
  },
  {
   "cell_type": "code",
   "execution_count": 1,
   "metadata": {},
   "outputs": [
    {
     "name": "stdout",
     "output_type": "stream",
     "text": [
      "Your input is : taha\n",
      "0\n",
      "1\n",
      "2\n",
      "3\n",
      "4\n"
     ]
    }
   ],
   "source": [
    "user = str(input(\"Enter The text : \"))\n",
    "print(f\"Your input is : {user}\")\n",
    "for i in range(len(user) + 1):\n",
    "    r_word = user[i: ] + user[ :i]\n",
    "    print(r_word)\n"
   ]
  },
  {
   "attachments": {},
   "cell_type": "markdown",
   "metadata": {},
   "source": [
    "## SCENARIO 8\n",
    " Write a program in python that accepts a string to setup a passwords. Your entered password must <br>meet the following requirements: <br>\n",
    "The password must be at least eight characters long.<br> It must contain at least one uppercase letter.<br> It must contain at least one lowercase letter.<br> It must contain at least one numeric digit.<br> Your program should should perform this validation. "
   ]
  },
  {
   "cell_type": "code",
   "execution_count": 3,
   "metadata": {},
   "outputs": [
    {
     "name": "stdout",
     "output_type": "stream",
     "text": [
      "Password is valid!\n"
     ]
    }
   ],
   "source": [
    "password = input(\"Enter your password: \")\n",
    "\n",
    "has_upper = False\n",
    "has_lower = False\n",
    "has_digit = False\n",
    "\n",
    "if len(password) >= 8:\n",
    "        for char in password:\n",
    "            if char.isupper():\n",
    "                has_upper = True\n",
    "            elif char.islower():\n",
    "                    has_lower = True\n",
    "            elif char.isdigit():\n",
    "                has_digit = True\n",
    "            if has_upper and has_lower and has_digit:\n",
    "             break\n",
    "\n",
    "if has_upper and has_lower and has_digit:\n",
    "    print(\"Password is valid!\")\n",
    "else:\n",
    "    print(\"Password is invalid. Please ensure it meets the following criteria:\")\n",
    "    print(\"- At least 8 characters long\")\n",
    "    print(\"- Contains at least one uppercase letter\")\n",
    "    print(\"- Contains at least one lowercase letter\")\n",
    "    print(\"- Contains at least one numeric digit\")\n"
   ]
  }
 ],
 "metadata": {
  "kernelspec": {
   "display_name": "base",
   "language": "python",
   "name": "python3"
  },
  "language_info": {
   "codemirror_mode": {
    "name": "ipython",
    "version": 3
   },
   "file_extension": ".py",
   "mimetype": "text/x-python",
   "name": "python",
   "nbconvert_exporter": "python",
   "pygments_lexer": "ipython3",
   "version": "3.11.7"
  },
  "orig_nbformat": 4
 },
 "nbformat": 4,
 "nbformat_minor": 2
}
